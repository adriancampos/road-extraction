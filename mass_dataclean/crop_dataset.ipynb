{
 "cells": [
  {
   "cell_type": "code",
   "execution_count": null,
   "metadata": {},
   "outputs": [],
   "source": [
    "import os\n",
    "from PIL import Image\n",
    "import numpy as np\n",
    "\n",
    "path_sat = \"../datasets/mass/sat/\"\n",
    "path_msk = \"../datasets/mass/map/\"\n",
    "\n",
    "out_path_sat = \"../datasets/mass/crop/sat/\"\n",
    "out_path_msk = \"../datasets/mass/crop/map/\"\n",
    "\n",
    "# throw out images that are at least 5% whitespace\n",
    "threshold = .05"
   ]
  },
  {
   "cell_type": "code",
   "execution_count": null,
   "metadata": {},
   "outputs": [],
   "source": [
    "def get_whitespace(im):\n",
    "    # compute white amount for image\n",
    "    arr = np.array(im)\n",
    "\n",
    "    # count how many fully white pixels\n",
    "    arr = (arr//255) * 255\n",
    "    img_sum = arr.sum()\n",
    "\n",
    "    # fully white image would be 1500x1500x3x255\n",
    "    full_white = np.array(arr.shape).prod() * 255\n",
    "    \n",
    "    return img_sum/full_white"
   ]
  },
  {
   "cell_type": "code",
   "execution_count": null,
   "metadata": {
    "scrolled": false
   },
   "outputs": [],
   "source": [
    "crops = [\n",
    "    lambda im : im.crop((0,0,1024,1024)), # top left\n",
    "    lambda im : im.crop((im.height-1024,0,im.width,1024)), # top right\n",
    "    lambda im : im.crop((0,im.height-1024,1024,im.height)), # bottom left\n",
    "    lambda im : im.crop((im.width-1024,im.height-1024,im.width,im.height))  # bottom right\n",
    "]\n",
    "\n",
    "sat_names = set([files for _,_,files in os.walk(path_sat, topdown=False)][0])\n",
    "msk_names = set([files for _,_,files in os.walk(path_msk, topdown=False)][0])\n",
    "\n",
    "# only use the images that have both a satellite image and a mask\n",
    "names = sat_names.intersection(msk_names)\n",
    "\n",
    "for name in names:           \n",
    "        min_whitespace = float('inf')\n",
    "        min_crop = None\n",
    "        \n",
    "        im_sat = Image.open(os.path.join(path_sat, name))\n",
    "        im_msk = Image.open(os.path.join(path_msk, name))\n",
    "                \n",
    "        \n",
    "    \n",
    "        # get the crop with the least amount of whitespace\n",
    "        for i,crop in enumerate(crops):\n",
    "            im_crop = crop(im_sat)\n",
    "            whitespace_crop = get_whitespace(im_crop)\n",
    "            \n",
    "            if whitespace_crop < min_whitespace:\n",
    "                min_whitespace = whitespace_crop\n",
    "                min_crop = crop\n",
    "\n",
    "        # print it out for analysis\n",
    "        print(name, crops.index(min_crop), min_whitespace)\n",
    "        \n",
    "        if min_whitespace < threshold:\n",
    "            # save image if we're within the threshold of whitespace\n",
    "            min_crop(im_sat).save(os.path.join(out_path_sat, name),\"PNG\")\n",
    "            min_crop(im_msk).save(os.path.join(out_path_msk, name),\"PNG\")\n"
   ]
  }
 ],
 "metadata": {
  "kernelspec": {
   "display_name": "Python 3",
   "language": "python",
   "name": "python3"
  },
  "language_info": {
   "codemirror_mode": {
    "name": "ipython",
    "version": 3
   },
   "file_extension": ".py",
   "mimetype": "text/x-python",
   "name": "python",
   "nbconvert_exporter": "python",
   "pygments_lexer": "ipython3",
   "version": "3.6.8"
  }
 },
 "nbformat": 4,
 "nbformat_minor": 2
}
