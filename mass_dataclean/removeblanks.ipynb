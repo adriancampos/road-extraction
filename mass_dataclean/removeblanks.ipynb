{
 "cells": [
  {
   "cell_type": "code",
   "execution_count": 3,
   "metadata": {},
   "outputs": [],
   "source": [
    "import os\n",
    "from PIL import Image\n",
    "import numpy as np\n",
    "\n",
    "path_sat = \"../datasets/maroads/dataset/sat/\"\n",
    "path_msk = \"../datasets/maroads/dataset/map\"\n",
    "\n",
    "# out_path_sat = \"../datasets/mass/crop/sat/\"\n",
    "# out_path_msk = \"../datasets/mass/crop/map/\""
   ]
  },
  {
   "cell_type": "code",
   "execution_count": 7,
   "metadata": {
    "scrolled": false
   },
   "outputs": [
    {
     "name": "stdout",
     "output_type": "stream",
     "text": [
      "24779305_15.png\n",
      "16078930_15.png\n",
      "26129245_15.png\n",
      "24029005_15.png\n",
      "25829275_15.png\n",
      "25229200_15.png\n",
      "26429245_15.png\n",
      "10378660_15.png\n",
      "17278765_15.png\n",
      "26578780_15.png\n",
      "11128945_15.png\n",
      "23428825_15.png\n",
      "25679230_15.png\n",
      "11428945_15.png\n",
      "25079185_15.png\n"
     ]
    }
   ],
   "source": [
    "count_blank = 0\n",
    "\n",
    "# sat_names = set([files for _,_,files in os.walk(path_sat, topdown=False)][0])\n",
    "msk_names = set([files for _,_,files in os.walk(path_msk, topdown=False)][0])\n",
    "\n",
    "# only use the images that have both a satellite image and a mask\n",
    "# names = sat_names.intersection(msk_names)\n",
    "\n",
    "for name in msk_names:                   \n",
    "#         im_sat = Image.open(os.path.join(path_sat, name))\n",
    "        im_msk = Image.open(os.path.join(path_msk, name))\n",
    "                \n",
    "        if np.array(im_msk).sum() == 0:\n",
    "            print(name)\n"
   ]
  },
  {
   "cell_type": "code",
   "execution_count": 8,
   "metadata": {},
   "outputs": [
    {
     "data": {
      "text/plain": [
       "924"
      ]
     },
     "execution_count": 8,
     "metadata": {},
     "output_type": "execute_result"
    }
   ],
   "source": [
    "len(msk_names)"
   ]
  }
 ],
 "metadata": {
  "kernelspec": {
   "display_name": "Python 3",
   "language": "python",
   "name": "python3"
  },
  "language_info": {
   "codemirror_mode": {
    "name": "ipython",
    "version": 3
   },
   "file_extension": ".py",
   "mimetype": "text/x-python",
   "name": "python",
   "nbconvert_exporter": "python",
   "pygments_lexer": "ipython3",
   "version": "3.6.8"
  }
 },
 "nbformat": 4,
 "nbformat_minor": 2
}
